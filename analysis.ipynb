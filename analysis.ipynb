{
 "cells": [
  {
   "cell_type": "markdown",
   "metadata": {},
   "source": [
    "### Dataset Dictionary\n",
    "\n",
    "Header | Definition\n",
    "---|---------\n",
    "`URL`| The URL of the comic character on the Marvel Wikia\n",
    "`Name/Alias` | The full name or alias of the character\n",
    "`Appearances` | The number of comic books that character appeared in as of April 30 \n",
    "`Current?` | Is the member currently active on an avengers affiliated team?\n",
    "`Gender` | The recorded gender of the character\n",
    "`Probationary` | Sometimes the character was given probationary status as an Avenger, this is the date that happened\n",
    "`Full/Reserve` | The month and year the character was introduced as a full or reserve member of the Avengers\n",
    "`Year` | The year the character was introduced as a full or reserve member of the Avengers\n",
    "`Years since joining` | 2015 minus the year\n",
    "`Honorary` | The status of the avenger, if they were given \"Honorary\" Avenger status, if they are simply in the \"Academy,\" or \"Full\" otherwise\n",
    "`Death1` | Yes if the Avenger died, No if not. \n",
    "`Return1` | Yes if the Avenger returned from their first death, No if  they did not, blank if not applicable\n",
    "`Death2` | Yes if the Avenger died a second time after their revival, No if they did not, blank if not applicable\n",
    "`Return2` | Yes if the Avenger returned from their second death, No if they did not, blank if not applicable\n",
    "`Death3` | Yes if the Avenger died a third time after their second revival, No if they did not, blank if not applicable\n",
    "`Return3` | Yes if the Avenger returned from their third death, No if they did not, blank if not applicable\n",
    "`Death4` | Yes if the Avenger died a fourth time after their third revival, No if they did not, blank if not applicable\n",
    "`Return4` | Yes if the Avenger returned from their fourth death, No if they did not, blank if not applicable\n",
    "`Death5` | Yes if the Avenger died a fifth time after their fourth revival, No if they did not, blank if not applicable\n",
    "`Return5` | Yes if the Avenger returned from their fifth death, No if they did not, blank if not applicable\n",
    "`Notes` | Descriptions of deaths and resurrections. "
   ]
  },
  {
   "cell_type": "markdown",
   "metadata": {},
   "source": [
    "# Questions to answer"
   ]
  },
  {
   "cell_type": "markdown",
   "metadata": {},
   "source": [
    "1. <s>Quantos Vingadores morreram pelo menos uma vez?</s>\n",
    "2. <s>Top 10 personagens com mais mortes</s>\n",
    "3. <s>Todos os personagens morreram em algum momento?</s>\n",
    "4. <s>Qual é a distribuição de mortes entre os personagens?</s>\n",
    "5. <s>Quantas vezes os Vingadores retornaram de mortes?</s>\n",
    "6. <s>Há diferença na mortalidade entre personagens de diferentes gêneros?</s>\n",
    "7. <s>A mortalidade dos Vingadores mudou ao longo dos anos?</s>\n",
    "8. <s>Há Vingadores que morreram múltiplas vezes e voltaram?</s>\n",
    "9. <s>Quais personagens estão atualmente ativos ou inativos?</s>\n",
    "10. <s>Quais são os personagens com mais aparições que nunca morreram?</s>\n",
    "11. <s>Qual é a média de tempo (em anos) desde que um personagem foi introduzido nos Vingadores?</s>"
   ]
  },
  {
   "cell_type": "markdown",
   "metadata": {},
   "source": [
    "## Importing Libraries"
   ]
  },
  {
   "cell_type": "code",
   "execution_count": 111,
   "metadata": {},
   "outputs": [],
   "source": [
    "import pandas as pd\n",
    "import matplotlib.pyplot as plt\n",
    "import seaborn as sns\n",
    "import re\n",
    "from tabulate import tabulate\n",
    "\n",
    "plt.style.use('ggplot')\n",
    "\n",
    "file_path = 'data/avengers.csv'"
   ]
  },
  {
   "cell_type": "code",
   "execution_count": 112,
   "metadata": {},
   "outputs": [],
   "source": [
    "avengers = pd.read_csv(file_path, encoding='ISO-8859-1')"
   ]
  },
  {
   "cell_type": "markdown",
   "metadata": {},
   "source": [
    "## Entendendo os dados"
   ]
  },
  {
   "cell_type": "code",
   "execution_count": null,
   "metadata": {},
   "outputs": [],
   "source": [
    "avengers.describe()"
   ]
  },
  {
   "cell_type": "code",
   "execution_count": null,
   "metadata": {},
   "outputs": [],
   "source": [
    "avengers.info()"
   ]
  },
  {
   "cell_type": "markdown",
   "metadata": {},
   "source": [
    "## Corrigindo a coluna 'Name/Alias'"
   ]
  },
  {
   "cell_type": "markdown",
   "metadata": {},
   "source": [
    "<p>Identificamos que a coluna com os nomes dos vingadores possui alguns campos vazios.</p>\n",
    "\n",
    "<p>Para resolver esse problema, nós poderiamos excluir os valores vazios ou escrever <i>Unknown</i> no lugar dos valores vazios.</p>\n",
    "\n",
    "<p>Porém nós temos a coluna <i>URL</i> que contém o nome dos heróis no link. Então nesse caso nós podemos extrair o nome dos heróis e colocar no lugar dos valores vazios.</p>\n",
    "\n"
   ]
  },
  {
   "cell_type": "code",
   "execution_count": 115,
   "metadata": {},
   "outputs": [],
   "source": [
    "# Função para extrair o nome do personagem da URL\n",
    "\n",
    "def extract_name_from_url(url):\n",
    "    \n",
    "    #Queremos o que está entre as barras '/' e antes dos parênteses '('\n",
    "    \n",
    "    #Como nesse exemplo: marvel.wikia.com/Jocasta_(Earth-616)\n",
    "    \n",
    "    match = re.search(r'/([^/]+)_\\(Earth-\\d+\\)', url)\n",
    "    \n",
    "    if match:\n",
    "    \n",
    "        return match.group(1).replace('_', ' ') #Substituimos o '_' por um espaço\n",
    "    \n",
    "    return None\n",
    "    "
   ]
  },
  {
   "cell_type": "code",
   "execution_count": 116,
   "metadata": {},
   "outputs": [],
   "source": [
    "avengers ['Name/Alias'] = avengers['Name/Alias'].fillna(avengers['URL'].apply(extract_name_from_url))"
   ]
  },
  {
   "cell_type": "markdown",
   "metadata": {},
   "source": [
    "### Quantos Vingadores morreram pelo menos uma vez?"
   ]
  },
  {
   "cell_type": "code",
   "execution_count": 178,
   "metadata": {},
   "outputs": [
    {
     "name": "stdout",
     "output_type": "stream",
     "text": [
      "Numero de vingadores que morreram pelo menos uma vez: 69\n"
     ]
    }
   ],
   "source": [
    "avengers['Died'] = avengers[['Death1','Death2', 'Death3', 'Death4', 'Death5']].apply(lambda x: 'YES' in x.values, axis=1)\n",
    "\n",
    "dead_avengers = avengers['Died'].sum()\n",
    "\n",
    "print(f'Numero de vingadores que morreram pelo menos uma vez: {dead_avengers}')"
   ]
  },
  {
   "cell_type": "code",
   "execution_count": 118,
   "metadata": {},
   "outputs": [],
   "source": [
    "died_counts = avengers['Died'].value_counts()"
   ]
  },
  {
   "cell_type": "code",
   "execution_count": null,
   "metadata": {},
   "outputs": [],
   "source": [
    "plt.figure(figsize=(8,6))\n",
    "sns.barplot(x=died_counts.index, y = died_counts.values, palette='viridis')\n",
    "\n",
    "plt.title('Numero de vingadores que Morreram pelo menos uma vez')\n",
    "plt.xlabel('Morreu Pelo Menos Uma Vez')\n",
    "plt.ylabel('Número de Vingadores')\n",
    "plt.show()"
   ]
  },
  {
   "cell_type": "markdown",
   "metadata": {},
   "source": [
    "### Top 10 Avengers Who Died the Most"
   ]
  },
  {
   "cell_type": "code",
   "execution_count": 120,
   "metadata": {},
   "outputs": [],
   "source": [
    "death_columns = ['Death1', 'Death2', 'Death3', 'Death4', 'Death5']\n",
    "\n",
    "avengers['Total_Deaths'] = avengers[death_columns].apply(lambda x: x.str.contains('YES').sum(), axis=1)\n"
   ]
  },
  {
   "cell_type": "code",
   "execution_count": 121,
   "metadata": {},
   "outputs": [],
   "source": [
    "top_10_deaths = avengers.sort_values(by = 'Total_Deaths', ascending = False).head(10)"
   ]
  },
  {
   "cell_type": "code",
   "execution_count": null,
   "metadata": {},
   "outputs": [],
   "source": [
    "top_10_deaths"
   ]
  },
  {
   "cell_type": "code",
   "execution_count": 179,
   "metadata": {},
   "outputs": [
    {
     "data": {
      "image/png": "[encoded data removed]",
      "text/plain": [
       "<Figure size 1000x1000 with 1 Axes>"
      ]
     },
     "metadata": {},
     "output_type": "display_data"
    }
   ],
   "source": [
    "plt.figure(figsize=(10,10))\n",
    "plt.barh(top_10_deaths['Name/Alias'], top_10_deaths['Total_Deaths'], color='darkred')\n",
    "plt.xlabel('Number of Deaths')\n",
    "plt.ylabel('Avenger')\n",
    "plt.title('Top 10 Avengers Who Died the Most')\n",
    "plt.gca().invert_yaxis()\n",
    "plt.show()"
   ]
  },
  {
   "cell_type": "markdown",
   "metadata": {},
   "source": [
    "### Todos os personagens morreram em algum momento?"
   ]
  },
  {
   "cell_type": "code",
   "execution_count": 189,
   "metadata": {},
   "outputs": [
    {
     "name": "stdout",
     "output_type": "stream",
     "text": [
      "Not all characters have died\n",
      "Number of characters who have not died: 104\n",
      "\n",
      "Characters who have not died:\n",
      "╒═════════════════════════════════════╕\n",
      "│ Name/Alias                          │\n",
      "╞═════════════════════════════════════╡\n",
      "│ Richard Milhouse Jones              │\n",
      "├─────────────────────────────────────┤\n",
      "│ Heracles                            │\n",
      "├─────────────────────────────────────┤\n",
      "│ T'Challa                            │\n",
      "├─────────────────────────────────────┤\n",
      "│ Dane Whitman                        │\n",
      "├─────────────────────────────────────┤\n",
      "│ Henry P. McCoy                      │\n",
      "├─────────────────────────────────────┤\n",
      "│ Yondu Udonta                        │\n",
      "├─────────────────────────────────────┤\n",
      "│ Martinex T'Naga                     │\n",
      "├─────────────────────────────────────┤\n",
      "│ Charlie-27                          │\n",
      "├─────────────────────────────────────┤\n",
      "│ Nicholette Gold                     │\n",
      "├─────────────────────────────────────┤\n",
      "│ Stakar                              │\n",
      "├─────────────────────────────────────┤\n",
      "│ Vance Astrovik                      │\n",
      "├─────────────────────────────────────┤\n",
      "│ Carol Susan Jane Danvers            │\n",
      "├─────────────────────────────────────┤\n",
      "│ Samuel Thomas Wilson                │\n",
      "├─────────────────────────────────────┤\n",
      "│ Greer Grant Nelson                  │\n",
      "├─────────────────────────────────────┤\n",
      "│ Monica Rambeau                      │\n",
      "├─────────────────────────────────────┤\n",
      "│ Eros                                │\n",
      "├─────────────────────────────────────┤\n",
      "│ James R. Rhodes                     │\n",
      "├─────────────────────────────────────┤\n",
      "│ Bonita Juarez                       │\n",
      "├─────────────────────────────────────┤\n",
      "│ Marc Spector                        │\n",
      "├─────────────────────────────────────┤\n",
      "│ John F. Walker                      │\n",
      "├─────────────────────────────────────┤\n",
      "│ Miguel Santos                       │\n",
      "├─────────────────────────────────────┤\n",
      "│ Julia Carpenter                     │\n",
      "├─────────────────────────────────────┤\n",
      "│ Christopher Powell                  │\n",
      "├─────────────────────────────────────┤\n",
      "│ Reed Richards                       │\n",
      "├─────────────────────────────────────┤\n",
      "│ Susan Richards (nee Storm)          │\n",
      "├─────────────────────────────────────┤\n",
      "│ Ashley Crawford                     │\n",
      "├─────────────────────────────────────┤\n",
      "│ Val Ventura                         │\n",
      "├─────────────────────────────────────┤\n",
      "│ Craig Hollis                        │\n",
      "├─────────────────────────────────────┤\n",
      "│ Gene Lorrene                        │\n",
      "├─────────────────────────────────────┤\n",
      "│ Dorreen Green                       │\n",
      "├─────────────────────────────────────┤\n",
      "│ Tippy-Toe                           │\n",
      "├─────────────────────────────────────┤\n",
      "│ Greg Willis                         │\n",
      "├─────────────────────────────────────┤\n",
      "│ Circe                               │\n",
      "├─────────────────────────────────────┤\n",
      "│ Walter Newell                       │\n",
      "├─────────────────────────────────────┤\n",
      "│ Elvin Haliday                       │\n",
      "├─────────────────────────────────────┤\n",
      "│ Crystal Amaquelin Maximoff          │\n",
      "├─────────────────────────────────────┤\n",
      "│ Phillip Javert                      │\n",
      "├─────────────────────────────────────┤\n",
      "│ Melissa Darrow                      │\n",
      "├─────────────────────────────────────┤\n",
      "│ Vance Astrovik                      │\n",
      "├─────────────────────────────────────┤\n",
      "│ Angelica Jones                      │\n",
      "├─────────────────────────────────────┤\n",
      "│ Delroy Garrett Jr.                  │\n",
      "├─────────────────────────────────────┤\n",
      "│ Maria de Guadalupe Santiago         │\n",
      "├─────────────────────────────────────┤\n",
      "│ Kelsey Leigh Shorr                  │\n",
      "├─────────────────────────────────────┤\n",
      "│ Carl Lucas                          │\n",
      "├─────────────────────────────────────┤\n",
      "│ Nathaniel Richards                  │\n",
      "├─────────────────────────────────────┤\n",
      "│ Elijah Bradley                      │\n",
      "├─────────────────────────────────────┤\n",
      "│ William \"Billy\" Kaplan              │\n",
      "├─────────────────────────────────────┤\n",
      "│ Dorrek VIII/Theodore \"Teddy\" Altman │\n",
      "├─────────────────────────────────────┤\n",
      "│ Katherine \"Kate\" Bishop             │\n",
      "├─────────────────────────────────────┤\n",
      "│ Thomas \"Tommy\" Shepherd             │\n",
      "├─────────────────────────────────────┤\n",
      "│ Daniel Thomas Rand K'ai             │\n",
      "├─────────────────────────────────────┤\n",
      "│ Doctor Stephen Vincent Strange      │\n",
      "├─────────────────────────────────────┤\n",
      "│ James Buchanan Barnes               │\n",
      "├─────────────────────────────────────┤\n",
      "│ Jessica Miriam Drew                 │\n",
      "├─────────────────────────────────────┤\n",
      "│ Jessica Jones                       │\n",
      "├─────────────────────────────────────┤\n",
      "│ Amadeus Cho                         │\n",
      "├─────────────────────────────────────┤\n",
      "│ Maria Hill                          │\n",
      "├─────────────────────────────────────┤\n",
      "│ Robbie Baldwin                      │\n",
      "├─────────────────────────────────────┤\n",
      "│ Brunnhilde                          │\n",
      "├─────────────────────────────────────┤\n",
      "│ Brian Braddock                      │\n",
      "├─────────────────────────────────────┤\n",
      "│ Noh-Varr                            │\n",
      "├─────────────────────────────────────┤\n",
      "│ John Aman                           │\n",
      "├─────────────────────────────────────┤\n",
      "│ Shang-Chi                           │\n",
      "├─────────────────────────────────────┤\n",
      "│ James Santini                       │\n",
      "├─────────────────────────────────────┤\n",
      "│ Emery Schaub                        │\n",
      "├─────────────────────────────────────┤\n",
      "│ Jeanne Foucault                     │\n",
      "├─────────────────────────────────────┤\n",
      "│ Fiona                               │\n",
      "├─────────────────────────────────────┤\n",
      "│ Jennifer Takeda                     │\n",
      "├─────────────────────────────────────┤\n",
      "│ Yvette                              │\n",
      "├─────────────────────────────────────┤\n",
      "│ Julie Power                         │\n",
      "├─────────────────────────────────────┤\n",
      "│ Alani Ryan                          │\n",
      "├─────────────────────────────────────┤\n",
      "│ Johnny Gallo                        │\n",
      "├─────────────────────────────────────┤\n",
      "│ Lyra                                │\n",
      "├─────────────────────────────────────┤\n",
      "│ Anya Corazon                        │\n",
      "├─────────────────────────────────────┤\n",
      "│ Brandon Sharpe                      │\n",
      "├─────────────────────────────────────┤\n",
      "│ Kevin Masterson                     │\n",
      "├─────────────────────────────────────┤\n",
      "│ Michiko Musashi                     │\n",
      "├─────────────────────────────────────┤\n",
      "│ Taki Matsuya                        │\n",
      "├─────────────────────────────────────┤\n",
      "│ Daisy Johnson                       │\n",
      "├─────────────────────────────────────┤\n",
      "│ Ororo Munroe                        │\n",
      "├─────────────────────────────────────┤\n",
      "│ Matt Murdock                        │\n",
      "├─────────────────────────────────────┤\n",
      "│ Flash Thompson                      │\n",
      "├─────────────────────────────────────┤\n",
      "│ Alex Summers                        │\n",
      "├─────────────────────────────────────┤\n",
      "│ Samuel Guthrie                      │\n",
      "├─────────────────────────────────────┤\n",
      "│ Roberto da Costa                    │\n",
      "├─────────────────────────────────────┤\n",
      "│ Eden Fesi                           │\n",
      "├─────────────────────────────────────┤\n",
      "│ Captain Universe                    │\n",
      "├─────────────────────────────────────┤\n",
      "│ Izzy Kane                           │\n",
      "├─────────────────────────────────────┤\n",
      "│ Anna Marie                          │\n",
      "├─────────────────────────────────────┤\n",
      "│ Sam Alexander                       │\n",
      "├─────────────────────────────────────┤\n",
      "│ America Chavez                      │\n",
      "├─────────────────────────────────────┤\n",
      "│ Loki Laufeyson                      │\n",
      "├─────────────────────────────────────┤\n",
      "│ David Alleyne                       │\n",
      "├─────────────────────────────────────┤\n",
      "│ Nicholas Fury, Jr., Marcus Johnson  │\n",
      "├─────────────────────────────────────┤\n",
      "│ Phillip Coulson                     │\n",
      "├─────────────────────────────────────┤\n",
      "│ Tony Masters                        │\n",
      "├─────────────────────────────────────┤\n",
      "│ Monica Chang                        │\n",
      "├─────────────────────────────────────┤\n",
      "│ Doombot (Avenger)                   │\n",
      "├─────────────────────────────────────┤\n",
      "│ Alexis                              │\n",
      "├─────────────────────────────────────┤\n",
      "│ Eric Brooks                         │\n",
      "├─────────────────────────────────────┤\n",
      "│ Adam Brashear                       │\n",
      "├─────────────────────────────────────┤\n",
      "│ Victor Alvarez                      │\n",
      "├─────────────────────────────────────┤\n",
      "│ Ava Ayala                           │\n",
      "├─────────────────────────────────────┤\n",
      "│ Kaluu                               │\n",
      "╘═════════════════════════════════════╛\n"
     ]
    }
   ],
   "source": [
    "all_characters_died = avengers['Died'].all()\n",
    "\n",
    "if all_characters_died:\n",
    "    print('All characters have died')\n",
    "else:\n",
    "    print('Not all characters have died')\n",
    "    \n",
    "    never_died = avengers[~avengers['Died']]\n",
    "    \n",
    "    print (f'Number of characters who have not died: {len(never_died)}')\n",
    "    \n",
    "    never_died_list = never_died[['Name/Alias']].reset_index(drop=True).values.tolist()\n",
    "    print(\"\\nCharacters who have not died:\")\n",
    "    print(tabulate(never_died_list, headers=['Name/Alias'], tablefmt='fancy_grid'))"
   ]
  },
  {
   "cell_type": "markdown",
   "metadata": {},
   "source": [
    "### Qual é a distribuição de mortes entre os personagens?"
   ]
  },
  {
   "cell_type": "code",
   "execution_count": 184,
   "metadata": {},
   "outputs": [
    {
     "data": {
      "text/html": [
       "<div>\n",
       "<style scoped>\n",
       "    .dataframe tbody tr th:only-of-type {\n",
       "        vertical-align: middle;\n",
       "    }\n",
       "\n",
       "    .dataframe tbody tr th {\n",
       "        vertical-align: top;\n",
       "    }\n",
       "\n",
       "    .dataframe thead th {\n",
       "        text-align: right;\n",
       "    }\n",
       "</style>\n",
       "<table border=\"1\" class=\"dataframe\">\n",
       "  <thead>\n",
       "    <tr style=\"text-align: right;\">\n",
       "      <th></th>\n",
       "      <th>Name/Alias</th>\n",
       "      <th>Total_Deaths</th>\n",
       "    </tr>\n",
       "  </thead>\n",
       "  <tbody>\n",
       "    <tr>\n",
       "      <th>0</th>\n",
       "      <td>Henry Jonathan \"Hank\" Pym</td>\n",
       "      <td>1</td>\n",
       "    </tr>\n",
       "    <tr>\n",
       "      <th>1</th>\n",
       "      <td>Janet van Dyne</td>\n",
       "      <td>1</td>\n",
       "    </tr>\n",
       "    <tr>\n",
       "      <th>2</th>\n",
       "      <td>Anthony Edward \"Tony\" Stark</td>\n",
       "      <td>1</td>\n",
       "    </tr>\n",
       "    <tr>\n",
       "      <th>3</th>\n",
       "      <td>Robert Bruce Banner</td>\n",
       "      <td>1</td>\n",
       "    </tr>\n",
       "    <tr>\n",
       "      <th>4</th>\n",
       "      <td>Thor Odinson</td>\n",
       "      <td>2</td>\n",
       "    </tr>\n",
       "    <tr>\n",
       "      <th>...</th>\n",
       "      <td>...</td>\n",
       "      <td>...</td>\n",
       "    </tr>\n",
       "    <tr>\n",
       "      <th>168</th>\n",
       "      <td>Eric Brooks</td>\n",
       "      <td>1</td>\n",
       "    </tr>\n",
       "    <tr>\n",
       "      <th>169</th>\n",
       "      <td>Adam Brashear</td>\n",
       "      <td>1</td>\n",
       "    </tr>\n",
       "    <tr>\n",
       "      <th>170</th>\n",
       "      <td>Victor Alvarez</td>\n",
       "      <td>1</td>\n",
       "    </tr>\n",
       "    <tr>\n",
       "      <th>171</th>\n",
       "      <td>Ava Ayala</td>\n",
       "      <td>1</td>\n",
       "    </tr>\n",
       "    <tr>\n",
       "      <th>172</th>\n",
       "      <td>Kaluu</td>\n",
       "      <td>1</td>\n",
       "    </tr>\n",
       "  </tbody>\n",
       "</table>\n",
       "<p>173 rows × 2 columns</p>\n",
       "</div>"
      ],
      "text/plain": [
       "                      Name/Alias  Total_Deaths\n",
       "0      Henry Jonathan \"Hank\" Pym             1\n",
       "1                 Janet van Dyne             1\n",
       "2    Anthony Edward \"Tony\" Stark             1\n",
       "3            Robert Bruce Banner             1\n",
       "4                   Thor Odinson             2\n",
       "..                           ...           ...\n",
       "168                  Eric Brooks             1\n",
       "169                Adam Brashear             1\n",
       "170               Victor Alvarez             1\n",
       "171                    Ava Ayala             1\n",
       "172                        Kaluu             1\n",
       "\n",
       "[173 rows x 2 columns]"
      ]
     },
     "execution_count": 184,
     "metadata": {},
     "output_type": "execute_result"
    }
   ],
   "source": [
    "avengers ['Total_Deaths'] = avengers[death_columns].apply(lambda x: sum(pd.notna(x)), axis = 1)\n",
    "\n",
    "avengers[['Name/Alias', 'Total_Deaths']]"
   ]
  },
  {
   "cell_type": "markdown",
   "metadata": {},
   "source": [
    "### Distribution of Number of Deaths Among Avengers\n",
    "\n",
    "This histogram shows the distribution of the number of deaths among Avengers characters. Each bar represents the count of characters that have experienced a specific number of deaths. The x-axis shows the number of deaths, while the y-axis represents the number of Avengers with that number of deaths.\n"
   ]
  },
  {
   "cell_type": "code",
   "execution_count": 181,
   "metadata": {},
   "outputs": [
    {
     "data": {
      "image/png": "[encoded data removed]",
      "text/plain": [
       "<Figure size 1200x800 with 1 Axes>"
      ]
     },
     "metadata": {},
     "output_type": "display_data"
    }
   ],
   "source": [
    "# Configurar o gráfico\n",
    "plt.figure(figsize=(12, 8))\n",
    "n, bins, patches = plt.hist(avengers['Total_Deaths'].dropna(), bins=range(int(avengers['Total_Deaths'].max() + 2)), edgecolor='black', color='darkred')\n",
    "\n",
    "# Adicionar títulos e rótulos\n",
    "plt.title('Distribution of Number of Deaths Among Avengers')\n",
    "plt.xlabel('Number of Deaths')\n",
    "plt.ylabel('Number of Avengers')\n",
    "plt.xticks(range(int(avengers['Total_Deaths'].max() + 1)))\n",
    "plt.grid(True, linestyle='--', alpha=0.7)\n",
    "\n",
    "# Adicionar anotações\n",
    "for count, bin_edge in zip(n, bins):\n",
    "    plt.text(bin_edge + 0.5, count + 1, f'{int(count)}', fontsize=9, color='black')\n",
    "\n",
    "# Exibir o gráfico\n",
    "plt.show()"
   ]
  },
  {
   "cell_type": "markdown",
   "metadata": {},
   "source": [
    "### Quantas vezes os Vingadores retornaram de mortes?"
   ]
  },
  {
   "cell_type": "code",
   "execution_count": 191,
   "metadata": {},
   "outputs": [
    {
     "name": "stdout",
     "output_type": "stream",
     "text": [
      "Total number of returns from death: 57\n"
     ]
    }
   ],
   "source": [
    "return_counts = avengers[['Return1', 'Return2', 'Return3', 'Return4', 'Return5']].apply(lambda x: x.str.contains('YES', na = False).sum(), axis = 1)\n",
    "\n",
    "total_returns = return_counts.sum()\n",
    "\n",
    "print(f'Total number of returns from death: {total_returns}')"
   ]
  },
  {
   "cell_type": "code",
   "execution_count": 186,
   "metadata": {},
   "outputs": [],
   "source": [
    "avengers['Total_Returns'] = avengers[['Return1', 'Return2', 'Return3', 'Return4', 'Return5']].apply(lambda x: x.str.contains('YES', na=False).sum(), axis=1)\n",
    "\n",
    "return_distribution = avengers['Total_Returns'].value_counts().sort_index()"
   ]
  },
  {
   "cell_type": "code",
   "execution_count": 187,
   "metadata": {},
   "outputs": [
    {
     "name": "stdout",
     "output_type": "stream",
     "text": [
      "Total_Returns\n",
      "0    127\n",
      "1     38\n",
      "2      7\n",
      "5      1\n",
      "Name: count, dtype: int64\n"
     ]
    }
   ],
   "source": [
    "print(return_distribution)"
   ]
  },
  {
   "cell_type": "code",
   "execution_count": 188,
   "metadata": {},
   "outputs": [
    {
     "data": {
      "image/png": "[encoded data removed]",
      "text/plain": [
       "<Figure size 1000x600 with 1 Axes>"
      ]
     },
     "metadata": {},
     "output_type": "display_data"
    }
   ],
   "source": [
    "# Configurar o gráfico\n",
    "plt.figure(figsize=(10, 6))\n",
    "plt.bar(return_distribution.index, return_distribution.values, color='darkred')\n",
    "\n",
    "# Adicionar títulos e rótulos\n",
    "plt.title('Distribution of Returns from Death Among Avengers')\n",
    "plt.xlabel('Number of Returns')\n",
    "plt.ylabel('Number of Avengers')\n",
    "plt.xticks(return_distribution.index)\n",
    "plt.grid(True, linestyle='--', alpha=0.7)\n",
    "\n",
    "# Exibir o gráfico\n",
    "plt.show()\n"
   ]
  },
  {
   "cell_type": "code",
   "execution_count": null,
   "metadata": {},
   "outputs": [],
   "source": [
    "# Encontrar o Vingador que retornou cinco vezes\n",
    "five_returns = avengers[avengers['Total_Returns'] == 5]\n",
    "print(five_returns[['Name/Alias', 'Total_Returns']])\n"
   ]
  },
  {
   "cell_type": "markdown",
   "metadata": {},
   "source": [
    "### Há diferença na mortalidade entre personagens de diferentes gêneros?"
   ]
  },
  {
   "cell_type": "code",
   "execution_count": null,
   "metadata": {},
   "outputs": [],
   "source": [
    "deaths_by_gender = avengers.groupby('Gender')['Total_Deaths'].sum()\n",
    "\n",
    "deaths_by_gender"
   ]
  },
  {
   "cell_type": "code",
   "execution_count": null,
   "metadata": {},
   "outputs": [],
   "source": [
    "plt.figure(figsize=(10, 6))\n",
    "deaths_by_gender.plot(kind='bar', color='darkblue')\n",
    "plt.xlabel('Gender')\n",
    "plt.ylabel('Total Number of Deaths')\n",
    "plt.title('Total Number of Deaths by Gender')\n",
    "plt.xticks(rotation=45)\n",
    "plt.show()"
   ]
  },
  {
   "cell_type": "markdown",
   "metadata": {},
   "source": [
    "### A mortalidade dos Vingadores mudou ao longo dos anos?"
   ]
  },
  {
   "cell_type": "code",
   "execution_count": 142,
   "metadata": {},
   "outputs": [],
   "source": [
    "deaths_by_year = avengers.groupby('Year')['Died'].sum()\n",
    "\n",
    "mortality_df = deaths_by_year.reset_index(name = 'Total_Deaths')"
   ]
  },
  {
   "cell_type": "code",
   "execution_count": null,
   "metadata": {},
   "outputs": [],
   "source": [
    "plt.figure(figsize=(10,6))\n",
    "plt.plot(mortality_df['Year'], mortality_df['Total_Deaths'], marker='o', color='darkblue')\n",
    "plt.title('Number of Deaths of Avengers Over the Years')\n",
    "plt.xlabel('Year')\n",
    "plt.ylabel('Total Deaths')\n",
    "plt.xticks(mortality_df['Year'][::5], rotation=45)\n",
    "plt.grid()\n",
    "plt.tight_layout()\n",
    "plt.show()"
   ]
  },
  {
   "cell_type": "markdown",
   "metadata": {},
   "source": [
    "### Há Vingadores que morreram múltiplas vezes e voltaram?"
   ]
  },
  {
   "cell_type": "code",
   "execution_count": null,
   "metadata": {},
   "outputs": [],
   "source": [
    "multiple_deaths_returned = avengers[(avengers[['Death2', 'Death3', 'Death4', 'Death5']] == 'YES').any(axis=1) &\n",
    "         (avengers[['Return1', 'Return2', 'Return3', 'Return4', 'Return5']] == 'YES').any(axis=1)]\n",
    "\n",
    "multiple_deaths_returned_names = multiple_deaths_returned[['Name/Alias', 'Death1', 'Death2', 'Death3', 'Death4', 'Death5', 'Return1', 'Return2', 'Return3', 'Return4', 'Return5']]\n",
    "\n",
    "multiple_deaths_returned_names"
   ]
  },
  {
   "cell_type": "markdown",
   "metadata": {},
   "source": [
    "### Quais personagens estão atualmente ativos ou inativos?"
   ]
  },
  {
   "cell_type": "code",
   "execution_count": null,
   "metadata": {},
   "outputs": [],
   "source": [
    "active_avengers = avengers[avengers['Current?'] == 'YES']\n",
    "inactive_avengers = avengers[avengers['Current?'] == 'NO']\n",
    "\n",
    "print(f\"Number of active avengers: {len(active_avengers)} \\n\")\n",
    "print(f\"Number of inactive avengers: {len(inactive_avengers)} \\n\")\n",
    "\n",
    "print(\"\\nActive avengers:\")\n",
    "print(active_avengers['Name/Alias'].to_string(index=False))\n"
   ]
  },
  {
   "cell_type": "code",
   "execution_count": null,
   "metadata": {},
   "outputs": [],
   "source": [
    "print(\"\\nInactive avengers:\")\n",
    "print(inactive_avengers['Name/Alias'].to_string(index=False))"
   ]
  },
  {
   "cell_type": "markdown",
   "metadata": {},
   "source": [
    "### Quais são os personagens com mais aparições que nunca morreram?"
   ]
  },
  {
   "cell_type": "code",
   "execution_count": 174,
   "metadata": {},
   "outputs": [
    {
     "name": "stdout",
     "output_type": "stream",
     "text": [
      "Top 10 Avengers with the most appearances who never died: \n",
      "                    Name/Alias  Appearances\n",
      "                 Reed Richards         2125\n",
      "                Henry P. McCoy         1886\n",
      "    Susan Richards (nee Storm)         1761\n",
      "                  Ororo Munroe         1598\n",
      "                  Matt Murdock         1375\n",
      "Doctor Stephen Vincent Strange         1324\n",
      "      Carol Susan Jane Danvers          935\n",
      "                    Carl Lucas          886\n",
      "                    Anna Marie          877\n",
      "                      T'Challa          780\n"
     ]
    }
   ],
   "source": [
    "top_appear_never_died = never_died.sort_values(by = 'Appearances', ascending = False)\n",
    "\n",
    "print(\"Top 10 Avengers with the most appearances who never died: \")\n",
    "print(top_appear_never_died[['Name/Alias', 'Appearances']].head(10).to_string(index = False))"
   ]
  },
  {
   "cell_type": "markdown",
   "metadata": {},
   "source": [
    "### Qual é a média de tempo (em anos) desde que um personagem foi introduzido nos Vingadores?"
   ]
  },
  {
   "cell_type": "code",
   "execution_count": 177,
   "metadata": {},
   "outputs": [
    {
     "name": "stdout",
     "output_type": "stream",
     "text": [
      "The average time (in years) since a character joined the Avengers is: 26.55 years!\n"
     ]
    }
   ],
   "source": [
    "avg_years_since_joining = avengers['Years since joining'].mean()\n",
    "\n",
    "print(f\"The average time (in years) since a character joined the Avengers is: {avg_years_since_joining:.2f} years!\")"
   ]
  }
 ],
 "metadata": {
  "kernelspec": {
   "display_name": "Python 3",
   "language": "python",
   "name": "python3"
  },
  "language_info": {
   "codemirror_mode": {
    "name": "ipython",
    "version": 3
   },
   "file_extension": ".py",
   "mimetype": "text/x-python",
   "name": "python",
   "nbconvert_exporter": "python",
   "pygments_lexer": "ipython3",
   "version": "3.12.3"
  }
 },
 "nbformat": 4,
 "nbformat_minor": 2
}
