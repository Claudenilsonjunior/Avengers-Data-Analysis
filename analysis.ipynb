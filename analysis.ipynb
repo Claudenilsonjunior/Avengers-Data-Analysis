{
 "cells": [
  {
   "cell_type": "markdown",
   "metadata": {},
   "source": [
    "### Dataset Dictionary\n",
    "\n",
    "Header | Definition\n",
    "---|---------\n",
    "`URL`| The URL of the comic character on the Marvel Wikia\n",
    "`Name/Alias` | The full name or alias of the character\n",
    "`Appearances` | The number of comic books that character appeared in as of April 30 \n",
    "`Current?` | Is the member currently active on an avengers affiliated team?\n",
    "`Gender` | The recorded gender of the character\n",
    "`Probationary` | Sometimes the character was given probationary status as an Avenger, this is the date that happened\n",
    "`Full/Reserve` | The month and year the character was introduced as a full or reserve member of the Avengers\n",
    "`Year` | The year the character was introduced as a full or reserve member of the Avengers\n",
    "`Years since joining` | 2015 minus the year\n",
    "`Honorary` | The status of the avenger, if they were given \"Honorary\" Avenger status, if they are simply in the \"Academy,\" or \"Full\" otherwise\n",
    "`Death1` | Yes if the Avenger died, No if not. \n",
    "`Return1` | Yes if the Avenger returned from their first death, No if  they did not, blank if not applicable\n",
    "`Death2` | Yes if the Avenger died a second time after their revival, No if they did not, blank if not applicable\n",
    "`Return2` | Yes if the Avenger returned from their second death, No if they did not, blank if not applicable\n",
    "`Death3` | Yes if the Avenger died a third time after their second revival, No if they did not, blank if not applicable\n",
    "`Return3` | Yes if the Avenger returned from their third death, No if they did not, blank if not applicable\n",
    "`Death4` | Yes if the Avenger died a fourth time after their third revival, No if they did not, blank if not applicable\n",
    "`Return4` | Yes if the Avenger returned from their fourth death, No if they did not, blank if not applicable\n",
    "`Death5` | Yes if the Avenger died a fifth time after their fourth revival, No if they did not, blank if not applicable\n",
    "`Return5` | Yes if the Avenger returned from their fifth death, No if they did not, blank if not applicable\n",
    "`Notes` | Descriptions of deaths and resurrections. "
   ]
  },
  {
   "cell_type": "markdown",
   "metadata": {},
   "source": [
    "# Questions to answer"
   ]
  },
  {
   "cell_type": "markdown",
   "metadata": {},
   "source": [
    "1. How many Avengers have died at least once?\n",
    "2. Top 10 Avengers Who Died the Most\n",
    "3. What is the distribution of deaths among characters?\n",
    "4. Did all characters die at some point?\n",
    "5. Is there a difference in mortality between characters of different genders?\n",
    "6. What is the relationship between the number of appearances and deaths?\n",
    "7. Has mortality changed over the years?\n",
    "8. Are there Avengers who died multiple times and returned?\n",
    "9. Which characters are currently active or inactive?\n",
    "10. Who are the characters with the most appearances who never died?\n",
    "11. What is the average time since a character joined the Avengers?"
   ]
  },
  {
   "cell_type": "markdown",
   "metadata": {},
   "source": [
    "## Importing Libraries"
   ]
  },
  {
   "cell_type": "code",
   "execution_count": 111,
   "metadata": {},
   "outputs": [],
   "source": [
    "import pandas as pd\n",
    "import matplotlib.pyplot as plt\n",
    "import seaborn as sns\n",
    "import re\n",
    "from tabulate import tabulate\n",
    "\n",
    "plt.style.use('ggplot')\n",
    "\n",
    "file_path = 'data/avengers.csv'"
   ]
  },
  {
   "cell_type": "code",
   "execution_count": 112,
   "metadata": {},
   "outputs": [],
   "source": [
    "avengers = pd.read_csv(file_path, encoding='ISO-8859-1')"
   ]
  },
  {
   "cell_type": "markdown",
   "metadata": {},
   "source": [
    "## Understanding the Data\n",
    "\n",
    "Before diving into the analysis, it's essential to understand the structure and key characteristics of our dataset. The following functions provide a summary of the Avengers dataset:\n",
    "\n",
    "```avengers.describe()``` gives statistical insights, such as count, mean, and standard deviation for numerical columns.\n",
    "\n",
    "```avengers.info()``` provides a detailed overview of the dataset, including column names, data types, and missing values.\n",
    "\n",
    "```avengers.head()``` displays the first few rows of the dataset.\n",
    "\n"
   ]
  },
  {
   "cell_type": "code",
   "execution_count": null,
   "metadata": {},
   "outputs": [],
   "source": [
    "avengers.describe()"
   ]
  },
  {
   "cell_type": "code",
   "execution_count": null,
   "metadata": {},
   "outputs": [],
   "source": [
    "avengers.info()"
   ]
  },
  {
   "cell_type": "code",
   "execution_count": null,
   "metadata": {},
   "outputs": [],
   "source": [
    "avengers.head()"
   ]
  },
  {
   "cell_type": "markdown",
   "metadata": {},
   "source": [
    "## Fixing the 'Name/Alias' Column"
   ]
  },
  {
   "cell_type": "markdown",
   "metadata": {},
   "source": [
    "I noticed that the column containing the names of the Avengers has some missing values.\n",
    "\n",
    "To address this issue, we could either remove the rows with missing values or replace the empty fields with \"Unknown\".\n",
    "\n",
    "However, we have the <b>URL</b> column, which contains the names of the heroes within the link. In this case, we can extract the hero names from the URL and fill in the missing values."
   ]
  },
  {
   "cell_type": "code",
   "execution_count": 115,
   "metadata": {},
   "outputs": [],
   "source": [
    "# Function to extract the character's name from the URL\n",
    "\n",
    "def extract_name_from_url(url):\n",
    "    \n",
    "    # We want the part between the slashes '/' and before the parentheses '('\n",
    "    \n",
    "    # Like in this example: marvel.wikia.com/Jocasta_(Earth-616)\n",
    "    \n",
    "    match = re.search(r'/([^/]+)_\\(Earth-\\d+\\)', url)\n",
    "    \n",
    "    if match:\n",
    "    \n",
    "        return match.group(1).replace('_', ' ') # Replace '_' with a space\n",
    "    \n",
    "    return None\n"
   ]
  },
  {
   "cell_type": "code",
   "execution_count": 116,
   "metadata": {},
   "outputs": [],
   "source": [
    "# Fill the 'Name/Alias' column with the extracted name from the 'URL' column\n",
    "# if there are any missing values in 'Name/Alias'\n",
    "\n",
    "avengers ['Name/Alias'] = avengers['Name/Alias'].fillna(avengers['URL'].apply(extract_name_from_url))"
   ]
  },
  {
   "cell_type": "markdown",
   "metadata": {},
   "source": [
    "### How many Avengers have died at least once?"
   ]
  },
  {
   "cell_type": "code",
   "execution_count": null,
   "metadata": {},
   "outputs": [],
   "source": [
    "# Create a new column 'Died' that will be True if any of the 'Death1' to 'Death5' columns contain 'YES'\n",
    "avengers['Died'] = avengers[['Death1','Death2', 'Death3', 'Death4', 'Death5']].apply(lambda x: 'YES' in x.values, axis=1)\n",
    "\n",
    "# Sum up the number of Avengers who have died at least once\n",
    "dead_avengers = avengers['Died'].sum()\n",
    "\n",
    "print(f'Number of Avengers who died at least once: {dead_avengers}')"
   ]
  },
  {
   "cell_type": "code",
   "execution_count": 226,
   "metadata": {},
   "outputs": [],
   "source": [
    "# Get the count of Avengers who have died and those who haven't\n",
    "died_counts = avengers['Died'].value_counts()"
   ]
  },
  {
   "cell_type": "code",
   "execution_count": null,
   "metadata": {},
   "outputs": [],
   "source": [
    "plt.figure(figsize=(8, 6))\n",
    "sns.barplot(x=died_counts.index, y=died_counts.values, palette='viridis')\n",
    "\n",
    "plt.title('Number of Avengers Who Died at Least Once')\n",
    "plt.xlabel('Died at Least Once')\n",
    "plt.ylabel('Number of Avengers')\n",
    "\n",
    "plt.xticks(ticks=[0, 1], labels=['Did Not Die', 'Died at Least Once'])\n",
    "\n",
    "# Adding value labels on top of the bars\n",
    "for i, v in enumerate(died_counts.values):\n",
    "    plt.text(i, v + 1, str(v), color='black', ha='center')\n",
    "\n",
    "plt.show()\n"
   ]
  },
  {
   "cell_type": "markdown",
   "metadata": {},
   "source": [
    "### Top 10 Avengers Who Died the Most"
   ]
  },
  {
   "cell_type": "code",
   "execution_count": 120,
   "metadata": {},
   "outputs": [],
   "source": [
    "# List of columns representing different death occurrences\n",
    "death_columns = ['Death1', 'Death2', 'Death3', 'Death4', 'Death5']\n",
    "\n",
    "# Create a new column 'Total_Deaths' that sums the number of times 'YES' appears across the death columns\n",
    "avengers['Total_Deaths'] = avengers[death_columns].apply(lambda x: x.str.contains('YES').sum(), axis=1)\n"
   ]
  },
  {
   "cell_type": "code",
   "execution_count": 121,
   "metadata": {},
   "outputs": [],
   "source": [
    "# Sort the Avengers by the 'Total_Deaths' in descending order and select the top 10\n",
    "top_10_deaths = avengers.sort_values(by = 'Total_Deaths', ascending = False).head(10)"
   ]
  },
  {
   "cell_type": "code",
   "execution_count": null,
   "metadata": {},
   "outputs": [],
   "source": [
    "top_10_deaths"
   ]
  },
  {
   "cell_type": "code",
   "execution_count": null,
   "metadata": {},
   "outputs": [],
   "source": [
    "plt.figure(figsize=(10, 8))\n",
    "plt.barh(top_10_deaths['Name/Alias'], top_10_deaths['Total_Deaths'], color='darkred', edgecolor='black')\n",
    "\n",
    "plt.xlabel('Number of Deaths', fontsize=12)\n",
    "plt.ylabel('Avenger', fontsize=12)\n",
    "plt.title('Top 10 Avengers Who Died the Most', fontsize=14)\n",
    "plt.gca().invert_yaxis() \n",
    "\n",
    "\n",
    "for index, value in enumerate(top_10_deaths['Total_Deaths']):\n",
    "    plt.text(value + 0.2, index, str(value), color='black', va='center', fontsize=10)\n",
    "\n",
    "plt.grid(axis='x', linestyle='--', alpha=0.7) \n",
    "plt.tight_layout()\n",
    "plt.show()\n"
   ]
  },
  {
   "cell_type": "markdown",
   "metadata": {},
   "source": [
    "### Have all characters died at some point?"
   ]
  },
  {
   "cell_type": "code",
   "execution_count": null,
   "metadata": {},
   "outputs": [],
   "source": [
    "# Check if all characters have died at least once by using the 'Died' column\n",
    "all_characters_died = avengers['Died'].all()\n",
    "\n",
    "# If all characters died, print that information\n",
    "if all_characters_died:\n",
    "    print('All characters have died')\n",
    "else:\n",
    "    # If not all characters died, print how many have not died\n",
    "    print('Not all characters have died')\n",
    "    \n",
    "    # Filter the list of characters who have never died\n",
    "    never_died = avengers[~avengers['Died']]\n",
    "    \n",
    "    print(f'Number of characters who have not died: {len(never_died)}')\n",
    "    \n",
    "    # Create a list of characters who have never died\n",
    "    never_died_list = never_died[['Name/Alias']].reset_index(drop=True).values.tolist()\n",
    "    \n",
    "    # Display the list in a fancy grid format using 'tabulate'\n",
    "    print(\"\\nCharacters who have not died:\")\n",
    "    print(tabulate(never_died_list, headers=['Name/Alias'], tablefmt='fancy_grid'))\n"
   ]
  },
  {
   "cell_type": "markdown",
   "metadata": {},
   "source": [
    "### What is the distribution of deaths among characters?"
   ]
  },
  {
   "cell_type": "code",
   "execution_count": null,
   "metadata": {},
   "outputs": [],
   "source": [
    "# Create a 'Total_Deaths' column that counts non-null values across the death columns\n",
    "avengers['Total_Deaths'] = avengers[death_columns].apply(lambda x: sum(pd.notna(x)), axis=1)\n",
    "\n",
    "# Display each Avenger's name along with their total deaths\n",
    "avengers[['Name/Alias', 'Total_Deaths']]"
   ]
  },
  {
   "cell_type": "markdown",
   "metadata": {},
   "source": [
    "### Distribution of Number of Deaths Among Avengers\n",
    "\n",
    "This histogram shows the distribution of the number of deaths among Avengers characters. Each bar represents the count of characters that have experienced a specific number of deaths. The x-axis shows the number of deaths, while the y-axis represents the number of Avengers with that number of deaths.\n"
   ]
  },
  {
   "cell_type": "code",
   "execution_count": null,
   "metadata": {},
   "outputs": [],
   "source": [
    "plt.figure(figsize=(12, 8))\n",
    "n, bins, patches = plt.hist(avengers['Total_Deaths'].dropna(),bins=range(int(avengers['Total_Deaths'].max() + 2)), edgecolor='black',color='darkred')\n",
    "\n",
    "\n",
    "plt.title('Distribution of Number of Deaths Among Avengers', fontsize=14)\n",
    "plt.xlabel('Number of Deaths', fontsize=12)\n",
    "plt.ylabel('Number of Avengers', fontsize=12)\n",
    "plt.xticks(range(int(avengers['Total_Deaths'].max() + 1)))\n",
    "plt.grid(axis='y', linestyle='--', alpha=0.7)\n",
    "\n",
    "\n",
    "for count, bin_edge in zip(n, bins):\n",
    "    plt.text(bin_edge + 0.5, count + 1, f'{int(count)}', fontsize=10, color='black', ha='center')\n",
    "\n",
    "\n",
    "plt.tight_layout()\n",
    "plt.show()\n"
   ]
  },
  {
   "cell_type": "markdown",
   "metadata": {},
   "source": [
    "### How many times have the Avengers returned from death?"
   ]
  },
  {
   "cell_type": "code",
   "execution_count": null,
   "metadata": {},
   "outputs": [],
   "source": [
    "# Calculate the number of returns by counting how many 'YES' values appear in the return columns\n",
    "return_counts = avengers[['Return1', 'Return2', 'Return3', 'Return4', 'Return5']].apply(lambda x: x.str.contains('YES', na=False).sum(), axis=1)\n",
    "\n",
    "# Sum the total number of returns from death across all Avengers\n",
    "total_returns = return_counts.sum()\n",
    "\n",
    "# Print the total number of returns\n",
    "print(f'Total number of returns from death: {total_returns}')"
   ]
  },
  {
   "cell_type": "code",
   "execution_count": 186,
   "metadata": {},
   "outputs": [],
   "source": [
    "# Create a 'Total_Returns' column to store the number of returns for each Avenger\n",
    "avengers['Total_Returns'] = avengers[['Return1', 'Return2', 'Return3', 'Return4', 'Return5']].apply(lambda x: x.str.contains('YES', na=False).sum(), axis=1)\n",
    "\n",
    "# Calculate the distribution of total returns among characters\n",
    "return_distribution = avengers['Total_Returns'].value_counts().sort_index()"
   ]
  },
  {
   "cell_type": "code",
   "execution_count": null,
   "metadata": {},
   "outputs": [],
   "source": [
    "print(return_distribution)"
   ]
  },
  {
   "cell_type": "code",
   "execution_count": null,
   "metadata": {},
   "outputs": [],
   "source": [
    "plt.figure(figsize=(10, 6))\n",
    "plt.bar(return_distribution.index, return_distribution.values, color='darkred', edgecolor='black')\n",
    "\n",
    "\n",
    "plt.title('Distribution of Returns from Death Among Avengers', fontsize=14)\n",
    "plt.xlabel('Number of Returns', fontsize=12)\n",
    "plt.ylabel('Number of Avengers', fontsize=12)\n",
    "plt.xticks(return_distribution.index)\n",
    "plt.grid(axis='y', linestyle='--', alpha=0.7)\n",
    "\n",
    "\n",
    "for index, value in enumerate(return_distribution.values):\n",
    "    plt.text(index, value + 1, str(value), ha='center', fontsize=10, color='black')\n",
    "\n",
    "\n",
    "plt.tight_layout()\n",
    "plt.show()\n"
   ]
  },
  {
   "cell_type": "markdown",
   "metadata": {},
   "source": [
    "### Is there a difference in mortality between characters of different genders?"
   ]
  },
  {
   "cell_type": "code",
   "execution_count": null,
   "metadata": {},
   "outputs": [],
   "source": [
    "# Group Avengers by gender and calculate the total deaths for each gender\n",
    "deaths_by_gender = avengers.groupby('Gender')['Total_Deaths'].sum()\n",
    "\n",
    "deaths_by_gender"
   ]
  },
  {
   "cell_type": "code",
   "execution_count": null,
   "metadata": {},
   "outputs": [],
   "source": [
    "plt.figure(figsize=(10, 6))\n",
    "deaths_by_gender.plot(kind='bar', color='darkblue', edgecolor='black')\n",
    "\n",
    "\n",
    "plt.xlabel('Gender', fontsize=12)\n",
    "plt.ylabel('Total Number of Deaths', fontsize=12)\n",
    "plt.title('Total Number of Deaths by Gender', fontsize=14)\n",
    "plt.xticks(rotation=45, fontsize=10)\n",
    "plt.grid(axis='y', linestyle='--', alpha=0.7)\n",
    "\n",
    "\n",
    "for index, value in enumerate(deaths_by_gender):\n",
    "    plt.text(index, value + 1, str(value), ha='center', fontsize=10, color='black')\n",
    "\n",
    "plt.tight_layout()\n",
    "plt.show()\n"
   ]
  },
  {
   "cell_type": "markdown",
   "metadata": {},
   "source": [
    "### Has Avengers mortality changed over the years?"
   ]
  },
  {
   "cell_type": "code",
   "execution_count": 229,
   "metadata": {},
   "outputs": [],
   "source": [
    "# Group Avengers by the year they were introduced and calculate the total deaths for each year\n",
    "deaths_by_year = avengers.groupby('Year')['Died'].sum()\n",
    "\n",
    "# Reset the index and rename the column to 'Total_Deaths' for better readability\n",
    "mortality_df = deaths_by_year.reset_index(name='Total_Deaths')"
   ]
  },
  {
   "cell_type": "code",
   "execution_count": null,
   "metadata": {},
   "outputs": [],
   "source": [
    "plt.figure(figsize=(12, 6))\n",
    "plt.plot(mortality_df['Year'], mortality_df['Total_Deaths'], marker='o', color='darkblue', linewidth=2, markersize=6)\n",
    "\n",
    "\n",
    "plt.title('Number of Deaths of Avengers Over the Years', fontsize=14)\n",
    "plt.xlabel('Year', fontsize=12)\n",
    "plt.ylabel('Total Deaths', fontsize=12)\n",
    "\n",
    "\n",
    "plt.xticks(mortality_df['Year'][::5], rotation=45, fontsize=10)\n",
    "\n",
    "\n",
    "plt.grid(axis='y', linestyle='--', alpha=0.7)\n",
    "\n",
    "\n",
    "plt.tight_layout()\n",
    "plt.show()\n"
   ]
  },
  {
   "cell_type": "markdown",
   "metadata": {},
   "source": [
    "### Are there Avengers who died multiple times and returned?"
   ]
  },
  {
   "cell_type": "code",
   "execution_count": null,
   "metadata": {},
   "outputs": [],
   "source": [
    "# Filter Avengers who died more than once and returned from death at least once\n",
    "multiple_deaths_returned = avengers[(avengers[['Death2', 'Death3', 'Death4', 'Death5']] == 'YES').any(axis=1) &\n",
    "         (avengers[['Return1', 'Return2', 'Return3', 'Return4', 'Return5']] == 'YES').any(axis=1)]\n",
    "\n",
    "# Select columns with names, deaths, and returns\n",
    "multiple_deaths_returned_names = multiple_deaths_returned[['Name/Alias', 'Death1', 'Death2', 'Death3', 'Death4', 'Death5', 'Return1', 'Return2', 'Return3', 'Return4', 'Return5']]\n",
    "multiple_deaths_returned_names"
   ]
  },
  {
   "cell_type": "markdown",
   "metadata": {},
   "source": [
    "### Which characters are currently active or inactive?"
   ]
  },
  {
   "cell_type": "code",
   "execution_count": null,
   "metadata": {},
   "outputs": [],
   "source": [
    "# Filter Avengers based on their current activity status\n",
    "active_avengers = avengers[avengers['Current?'] == 'YES']\n",
    "inactive_avengers = avengers[avengers['Current?'] == 'NO']\n",
    "\n",
    "print(f\"Number of active avengers: {len(active_avengers)} \\n\")\n",
    "print(f\"Number of inactive avengers: {len(inactive_avengers)} \\n\")\n",
    "\n",
    "print(\"\\nActive avengers:\")\n",
    "print(active_avengers['Name/Alias'].to_string(index=False))\n"
   ]
  },
  {
   "cell_type": "code",
   "execution_count": null,
   "metadata": {},
   "outputs": [],
   "source": [
    "print(\"\\nInactive avengers:\")\n",
    "print(inactive_avengers['Name/Alias'].to_string(index=False))"
   ]
  },
  {
   "cell_type": "markdown",
   "metadata": {},
   "source": [
    "### Which characters have the most appearances and never died?"
   ]
  },
  {
   "cell_type": "code",
   "execution_count": null,
   "metadata": {},
   "outputs": [],
   "source": [
    "# Sort Avengers who have never died by their number of appearances\n",
    "top_appear_never_died = never_died.sort_values(by='Appearances', ascending=False)\n",
    "\n",
    "\n",
    "print(\"Top 10 Avengers with the most appearances who never died: \")\n",
    "print(top_appear_never_died[['Name/Alias', 'Appearances']].head(10).to_string(index = False))"
   ]
  },
  {
   "cell_type": "markdown",
   "metadata": {},
   "source": [
    "### What is the average time (in years) since a character joined the Avengers?"
   ]
  },
  {
   "cell_type": "code",
   "execution_count": null,
   "metadata": {},
   "outputs": [],
   "source": [
    "# Calculate the average number of years since characters joined the Avengers\n",
    "avg_years_since_joining = avengers['Years since joining'].mean()\n",
    "\n",
    "print(f\"The average time (in years) since a character joined the Avengers is: {avg_years_since_joining:.2f} years!\")"
   ]
  }
 ],
 "metadata": {
  "kernelspec": {
   "display_name": "Python 3",
   "language": "python",
   "name": "python3"
  },
  "language_info": {
   "codemirror_mode": {
    "name": "ipython",
    "version": 3
   },
   "file_extension": ".py",
   "mimetype": "text/x-python",
   "name": "python",
   "nbconvert_exporter": "python",
   "pygments_lexer": "ipython3",
   "version": "3.12.3"
  }
 },
 "nbformat": 4,
 "nbformat_minor": 2
}
